{
 "cells": [
  {
   "cell_type": "markdown",
   "id": "dying-advertiser",
   "metadata": {},
   "source": [
    "\n",
    "권승민님 데이터 참고하면서 작성함.\n",
    "https://github.com/Kwon-Seung-Min/AIFFEL-Exp-KSM/blob/master/Exp19_final_ksm.ipynb\n"
   ]
  },
  {
   "cell_type": "markdown",
   "id": "medium-colonial",
   "metadata": {},
   "source": [
    "# 1. 데이터 준비"
   ]
  },
  {
   "cell_type": "code",
   "execution_count": null,
   "id": "quiet-healing",
   "metadata": {},
   "outputs": [],
   "source": [
    "mkdir -p ~/aiffel/conditional_generation/data"
   ]
  },
  {
   "cell_type": "markdown",
   "id": "editorial-guatemala",
   "metadata": {},
   "source": [
    "# 2. 필요 라이브러리"
   ]
  },
  {
   "cell_type": "code",
   "execution_count": null,
   "id": "attended-child",
   "metadata": {},
   "outputs": [],
   "source": [
    "import tensorflow as tf\n",
    "\n",
    "import os\n",
    "import time\n",
    "import cv2\n",
    "import numpy as np\n",
    "\n",
    "from glob import glob\n",
    "from matplotlib import pyplot as plt\n",
    "import matplotlib.image as image\n",
    "from IPython import display"
   ]
  },
  {
   "cell_type": "markdown",
   "id": "immediate-server",
   "metadata": {},
   "source": [
    "# 3. 데이터 살펴보기"
   ]
  },
  {
   "cell_type": "code",
   "execution_count": null,
   "id": "european-tract",
   "metadata": {},
   "outputs": [],
   "source": [
    "# 학습 데이터 샘플 수\n",
    "import os\n",
    "\n",
    "data_path = os.getenv('HOME')+'/aiffel/conditional_generation/data/cityscapes/train/'\n",
    "print(\"number of train examples :\", len(os.listdir(data_path)))"
   ]
  },
  {
   "cell_type": "code",
   "execution_count": null,
   "id": "joint-flashing",
   "metadata": {},
   "outputs": [],
   "source": [
    "# 검증 데이터 샘플 수\n",
    "import os\n",
    "\n",
    "data_path2 = os.getenv('HOME')+'/aiffel/conditional_generation/data/cityscapes/val/'\n",
    "print(\"number of val examples :\", len(os.listdir(data_path2)))"
   ]
  },
  {
   "cell_type": "code",
   "execution_count": null,
   "id": "false-grounds",
   "metadata": {},
   "outputs": [],
   "source": [
    "import cv2\n",
    "import numpy as np\n",
    "import matplotlib.pyplot as plt\n",
    "\n",
    "plt.figure(figsize=(20,15))\n",
    "for i in range(1, 7):\n",
    "    f = data_path + os.listdir(data_path)[np.random.randint(800)]\n",
    "    img = cv2.imread(f, cv2.IMREAD_COLOR)\n",
    "    plt.subplot(3,2,i)\n",
    "    plt.imshow(img)"
   ]
  },
  {
   "cell_type": "code",
   "execution_count": null,
   "id": "arabic-resolution",
   "metadata": {},
   "outputs": [],
   "source": [
    "f = data_path + os.listdir(data_path)[0]\n",
    "img = cv2.imread(f, cv2.IMREAD_COLOR)\n",
    "print(img.shape)"
   ]
  },
  {
   "cell_type": "code",
   "execution_count": null,
   "id": "missing-powder",
   "metadata": {},
   "outputs": [],
   "source": [
    "import tensorflow as tf\n",
    "\n",
    "def normalize(x):\n",
    "    x = tf.cast(x, tf.float32)\n",
    "    return (x/127.5) - 1\n",
    "\n",
    "def denormalize(x):\n",
    "    x = (x+1)*127.5\n",
    "    x = x.numpy()\n",
    "    return x.astype(np.uint8)\n",
    "\n",
    "def load_img(img_path):\n",
    "    img = tf.io.read_file(img_path)\n",
    "    img = tf.image.decode_image(img, 3)\n",
    "    \n",
    "    w = tf.shape(img)[1] // 2\n",
    "    real_image = img[:, :w, :] \n",
    "    real_image = tf.cast(real_image, tf.float32)\n",
    "    input_image = img[:, w:, :] \n",
    "    input_image = tf.cast(input_image, tf.float32)\n",
    "    return normalize(input_image), normalize(real_image)\n",
    "\n",
    "f = data_path + os.listdir(data_path)[1]\n",
    "input_image, real_image = load_img(f)\n",
    "\n",
    "plt.figure(figsize=(10,7))\n",
    "plt.subplot(1,2,1); plt.imshow(denormalize(input_image))\n",
    "plt.subplot(1,2,2); plt.imshow(denormalize(real_image))"
   ]
  },
  {
   "cell_type": "code",
   "execution_count": null,
   "id": "apart-evening",
   "metadata": {},
   "outputs": [],
   "source": [
    "from tensorflow import image\n",
    "from tensorflow.keras.preprocessing.image import random_rotation\n",
    "\n",
    "@tf.function() # 빠른 텐서플로 연산을 위해 @tf.function()을 사용합니다. \n",
    "def apply_augmentation(input_image, real_image):\n",
    "    stacked = tf.concat([input_image, real_image], axis=-1)\n",
    "    \n",
    "    _pad = tf.constant([[30,30],[30,30],[0,0]])\n",
    "    if tf.random.uniform(()) < .5:\n",
    "        padded = tf.pad(stacked, _pad, \"REFLECT\")\n",
    "    else:\n",
    "        padded = tf.pad(stacked, _pad, \"CONSTANT\", constant_values=1.)\n",
    "\n",
    "    out = image.random_crop(padded, size=[256, 256, 6])\n",
    "    \n",
    "    out = image.random_flip_left_right(out)\n",
    "    out = image.random_flip_up_down(out)\n",
    "    \n",
    "    if tf.random.uniform(()) < .5:\n",
    "        degree = tf.random.uniform([], minval=1, maxval=4, dtype=tf.int32)\n",
    "        out = image.rot90(out, k=degree)\n",
    "    \n",
    "    return out[...,:3], out[...,3:]"
   ]
  },
  {
   "cell_type": "code",
   "execution_count": null,
   "id": "documented-jewelry",
   "metadata": {},
   "outputs": [],
   "source": [
    "plt.figure(figsize=(15,13))\n",
    "img_n = 1\n",
    "for i in range(1, 13, 2):\n",
    "    augmented_input, augmented_real = apply_augmentation(input_image, real_image)\n",
    "    \n",
    "    plt.subplot(3,4,i)\n",
    "    plt.imshow(denormalize(augmented_input)); plt.title(f\"Image {img_n}\")\n",
    "    plt.subplot(3,4,i+1); \n",
    "    plt.imshow(denormalize(augmented_real)); plt.title(f\"Image {img_n}\")\n",
    "    img_n += 1"
   ]
  },
  {
   "cell_type": "code",
   "execution_count": null,
   "id": "ruled-moses",
   "metadata": {},
   "outputs": [],
   "source": [
    "from tensorflow import data\n",
    "\n",
    "def get_train(img_path):\n",
    "    input_image, real_image = load_img(img_path)\n",
    "    input_image, real_image = apply_augmentation(input_image, real_image)\n",
    "    return input_image, real_image\n",
    "\n",
    "train_images = data.Dataset.list_files(data_path + \"*.jpg\")\n",
    "train_images = train_images.map(get_train).shuffle(100).batch(4)\n",
    "\n",
    "sample = train_images.take(1)\n",
    "sample = list(sample.as_numpy_iterator())\n",
    "input_image, real_image = (sample[0][0]+1)*127.5, (sample[0][1]+1)*127.5\n",
    "\n",
    "plt.figure(figsize=(10,5))\n",
    "plt.subplot(1,2,1); plt.imshow(input_image[0].astype(np.uint8))\n",
    "plt.subplot(1,2,2); plt.imshow(real_image[0].astype(np.uint8))"
   ]
  },
  {
   "cell_type": "markdown",
   "id": "ancient-nursing",
   "metadata": {},
   "source": [
    "# 4. Generator(생성자)"
   ]
  },
  {
   "cell_type": "code",
   "execution_count": null,
   "id": "critical-asset",
   "metadata": {},
   "outputs": [],
   "source": [
    "from tensorflow.keras import layers, Input, Model\n",
    "\n",
    "class EncodeBlock(layers.Layer):\n",
    "    def __init__(self, n_filters, use_bn=True):\n",
    "        super(EncodeBlock, self).__init__()\n",
    "        self.use_bn = use_bn       \n",
    "        self.conv = layers.Conv2D(n_filters, 4, 2, \"same\", use_bias=False)\n",
    "        self.batchnorm = layers.BatchNormalization()\n",
    "        self.lrelu = layers.LeakyReLU(0.2)\n",
    "\n",
    "    def call(self, x):\n",
    "        x = self.conv(x)\n",
    "        if self.use_bn:\n",
    "            x = self.batchnorm(x)\n",
    "        return self.lrelu(x)\n",
    "\n",
    "    \n",
    "class DecodeBlock(layers.Layer):\n",
    "    def __init__(self, f, dropout=True):\n",
    "        super(DecodeBlock, self).__init__()\n",
    "        self.dropout = dropout\n",
    "        self.Transconv = layers.Conv2DTranspose(f, 4, 2, \"same\", use_bias=False)\n",
    "        self.batchnorm = layers.BatchNormalization()\n",
    "        self.relu = layers.ReLU()\n",
    "        \n",
    "    def call(self, x):\n",
    "        x = self.Transconv(x)\n",
    "        x = self.batchnorm(x)\n",
    "        if self.dropout:\n",
    "            x = layers.Dropout(.5)(x)\n",
    "        return self.relu(x)"
   ]
  },
  {
   "cell_type": "code",
   "execution_count": null,
   "id": "offensive-survival",
   "metadata": {},
   "outputs": [],
   "source": [
    "class UNetGenerator(Model):\n",
    "    def __init__(self):\n",
    "        super(UNetGenerator, self).__init__()\n",
    "        encode_filters = [64,128,256,512,512,512,512,512]\n",
    "        decode_filters = [512,512,512,512,256,128,64]\n",
    "        \n",
    "        self.encode_blocks = []\n",
    "        for i, f in enumerate(encode_filters):\n",
    "            if i == 0:\n",
    "                self.encode_blocks.append(EncodeBlock(f, use_bn=False))\n",
    "            else:\n",
    "                self.encode_blocks.append(EncodeBlock(f))\n",
    "        \n",
    "        self.decode_blocks = []\n",
    "        for i, f in enumerate(decode_filters):\n",
    "            if i < 3:\n",
    "                self.decode_blocks.append(DecodeBlock(f))\n",
    "            else:\n",
    "                self.decode_blocks.append(DecodeBlock(f, dropout=False))\n",
    "        \n",
    "        self.last_conv = layers.Conv2DTranspose(3, 4, 2, \"same\", use_bias=False)\n",
    "    \n",
    "    def call(self, x):\n",
    "        features = []\n",
    "        for block in self.encode_blocks:\n",
    "            x = block(x)\n",
    "            features.append(x)\n",
    "        \n",
    "        features = features[:-1]\n",
    "                    \n",
    "        for block, feat in zip(self.decode_blocks, features[::-1]):\n",
    "            x = block(x)\n",
    "            x = layers.Concatenate()([x, feat])\n",
    "        \n",
    "        x = self.last_conv(x)\n",
    "        return x\n",
    "                \n",
    "    def get_summary(self, input_shape=(256,256,3)):\n",
    "        inputs = Input(input_shape)\n",
    "        return Model(inputs, self.call(inputs)).summary()"
   ]
  },
  {
   "cell_type": "code",
   "execution_count": null,
   "id": "mobile-convergence",
   "metadata": {},
   "outputs": [],
   "source": [
    "UNetGenerator().get_summary()"
   ]
  },
  {
   "cell_type": "markdown",
   "id": "judicial-equilibrium",
   "metadata": {},
   "source": [
    "# 5. Discriminator (판별자)"
   ]
  },
  {
   "cell_type": "code",
   "execution_count": null,
   "id": "subsequent-institution",
   "metadata": {},
   "outputs": [],
   "source": [
    "class DiscBlock(layers.Layer):\n",
    "    def __init__(self, n_filters, stride=2, custom_pad=False, use_bn=True, act=True):\n",
    "        super(DiscBlock, self).__init__()\n",
    "        self.custom_pad = custom_pad\n",
    "        self.use_bn = use_bn\n",
    "        self.act = act\n",
    "        \n",
    "        if custom_pad:\n",
    "            self.padding = layers.ZeroPadding2D()\n",
    "            self.conv = layers.Conv2D(n_filters, 4, stride, \"valid\", use_bias=False)\n",
    "        else:\n",
    "            self.conv = layers.Conv2D(n_filters, 4, stride, \"same\", use_bias=False)\n",
    "        \n",
    "        self.batchnorm = layers.BatchNormalization() if use_bn else None\n",
    "        self.lrelu = layers.LeakyReLU(0.2) if act else None\n",
    "        \n",
    "    def call(self, x):\n",
    "        if self.custom_pad:\n",
    "            x = self.padding(x)\n",
    "            x = self.conv(x)\n",
    "        else:\n",
    "            x = self.conv(x)\n",
    "                \n",
    "        if self.use_bn:\n",
    "            x = self.batchnorm(x)\n",
    "            \n",
    "        if self.act:\n",
    "            x = self.lrelu(x)\n",
    "        return x"
   ]
  },
  {
   "cell_type": "code",
   "execution_count": null,
   "id": "distant-europe",
   "metadata": {},
   "outputs": [],
   "source": [
    "class Discriminator(Model):\n",
    "    def __init__(self):\n",
    "        super(Discriminator, self).__init__()\n",
    "        \n",
    "        self.block1 = layers.Concatenate()\n",
    "        self.block2 = DiscBlock(n_filters=64, stride=2, custom_pad=False, use_bn=False, act=True)\n",
    "        self.block3 = DiscBlock(n_filters=128, stride=2, custom_pad=False, use_bn=True, act=True)\n",
    "        self.block4 = DiscBlock(n_filters=256, stride=2, custom_pad=False, use_bn=True, act=True)\n",
    "        self.block5 = DiscBlock(n_filters=512, stride=1, custom_pad=True, use_bn=True, act=True)\n",
    "        self.block6 = DiscBlock(n_filters=1, stride=1, custom_pad=True, use_bn=False, act=False)\n",
    "        self.sigmoid = layers.Activation(\"sigmoid\")\n",
    "        \n",
    "        # for loop로 간편하게 블록 만들기\n",
    "        # filters = [64,128,256,512,1]\n",
    "        # self.blocks = [layers.Concatenate()]\n",
    "        # for i, f in enumerate(filters):\n",
    "        #     self.blocks.append(DiscBlock(\n",
    "        #         n_filters=f,\n",
    "        #         strides=2 if i<3 else 1,\n",
    "        #         custom_pad=False if i<3 else True,\n",
    "        #         use_bn=False if i==0 and i==4 else True,\n",
    "        #         act=True if i<4 else False\n",
    "        #     ))\n",
    "    \n",
    "    def call(self, x, y):\n",
    "        out = self.block1([x, y])\n",
    "        out = self.block2(out)\n",
    "        out = self.block3(out)\n",
    "        out = self.block4(out)\n",
    "        out = self.block5(out)\n",
    "        out = self.block6(out)\n",
    "        return self.sigmoid(out)\n",
    "    \n",
    "    def get_summary(self, x_shape=(256,256,3), y_shape=(256,256,3)):\n",
    "        x, y = Input(x_shape), Input(y_shape) \n",
    "        return Model((x, y), self.call(x, y)).summary()"
   ]
  },
  {
   "cell_type": "code",
   "execution_count": null,
   "id": "interested-salon",
   "metadata": {},
   "outputs": [],
   "source": [
    "Discriminator().get_summary()"
   ]
  },
  {
   "cell_type": "code",
   "execution_count": null,
   "id": "valued-booth",
   "metadata": {},
   "outputs": [],
   "source": [
    "x = tf.random.normal([1,256,256,3])\n",
    "y = tf.random.uniform([1,256,256,3])\n",
    "\n",
    "disc_out = Discriminator()(x, y)\n",
    "plt.imshow(disc_out[0, ... ,0])\n",
    "plt.colorbar()"
   ]
  },
  {
   "cell_type": "markdown",
   "id": "optional-bishop",
   "metadata": {},
   "source": [
    "# 6. 모델 학습 및 테스트"
   ]
  },
  {
   "cell_type": "code",
   "execution_count": null,
   "id": "falling-fight",
   "metadata": {},
   "outputs": [],
   "source": [
    "from tensorflow.keras import losses\n",
    "\n",
    "bce = losses.BinaryCrossentropy(from_logits=False)\n",
    "mae = losses.MeanAbsoluteError()\n",
    "\n",
    "def get_gene_loss(fake_output, real_output, fake_disc):\n",
    "    l1_loss = mae(real_output, fake_output)\n",
    "    gene_loss = bce(tf.ones_like(fake_disc), fake_disc)\n",
    "    return gene_loss, l1_loss\n",
    "\n",
    "def get_disc_loss(fake_disc, real_disc):\n",
    "    return bce(tf.zeros_like(fake_disc), fake_disc) + bce(tf.ones_like(real_disc), real_disc)"
   ]
  },
  {
   "cell_type": "code",
   "execution_count": null,
   "id": "russian-economy",
   "metadata": {},
   "outputs": [],
   "source": [
    "from tensorflow.keras import optimizers\n",
    "\n",
    "gene_opt = optimizers.Adam(2e-4, beta_1=.5, beta_2=.999)\n",
    "disc_opt = optimizers.Adam(2e-4, beta_1=.5, beta_2=.999)"
   ]
  },
  {
   "cell_type": "code",
   "execution_count": null,
   "id": "valuable-coach",
   "metadata": {},
   "outputs": [],
   "source": [
    "@tf.function\n",
    "def train_step(input_image, real_image):\n",
    "    with tf.GradientTape() as gene_tape, tf.GradientTape() as disc_tape:\n",
    "        # Generator 예측\n",
    "        gen_output = generator(input_image, training=True)\n",
    "        # Discriminator 예측\n",
    "        fake_disc = discriminator(input_image, gen_output, training=True)\n",
    "        real_disc = discriminator(input_image, real_image, training=True)\n",
    "        # Generator 손실 계산\n",
    "        gene_loss, l1_loss = get_gene_loss(gen_output, real_image, fake_disc)\n",
    "        gene_total_loss = gene_loss + (100 * l1_loss) ## <===== L1 손실 반영 λ=100\n",
    "        # Discrminator 손실 계산\n",
    "        disc_loss = get_disc_loss(fake_disc, real_disc)\n",
    "                \n",
    "    gene_gradient = gene_tape.gradient(gene_total_loss, generator.trainable_variables)\n",
    "    disc_gradient = disc_tape.gradient(disc_loss, discriminator.trainable_variables)\n",
    "    \n",
    "    gene_opt.apply_gradients(zip(gene_gradient, generator.trainable_variables))\n",
    "    disc_opt.apply_gradients(zip(disc_gradient, discriminator.trainable_variables))\n",
    "    return gene_loss, l1_loss, disc_loss"
   ]
  },
  {
   "cell_type": "code",
   "execution_count": null,
   "id": "obvious-orange",
   "metadata": {},
   "outputs": [],
   "source": [
    "EPOCHS = 100\n",
    "\n",
    "generator = UNetGenerator()\n",
    "discriminator = Discriminator()\n",
    "history = {'gen_loss':[], 'l1_loss':[], 'disc_loss':[]}\n",
    "\n",
    "for epoch in range(1, EPOCHS+1):\n",
    "    for i, (input_image, real_image) in enumerate(train_images):\n",
    "        g_loss, l1_loss, d_loss = train_step(input_image, real_image)\n",
    "        history['gen_loss'].append(g_loss)\n",
    "        history['l1_loss'].append(l1_loss)\n",
    "        history['disc_loss'].append(d_loss)\n",
    "        \n",
    "        # 반복마다 손실을 출력합니다.\n",
    "        if (i+1) % 100 == 0:\n",
    "            print(f\"EPOCH[{epoch}] - STEP[{i+1}] \\\n",
    "                    \\nGenerator_loss:{g_loss.numpy():.4f} \\\n",
    "                    \\nL1_loss:{l1_loss.numpy():.4f} \\\n",
    "                    \\nDiscriminator_loss:{d_loss.numpy():.4f}\", end=\"\\n\\n\")"
   ]
  },
  {
   "cell_type": "code",
   "execution_count": null,
   "id": "adequate-disney",
   "metadata": {},
   "outputs": [],
   "source": [
    "plt.figure(figsize=(16,10))\n",
    "\n",
    "plt.subplot(311)\n",
    "plt.plot(history['gen_loss'])\n",
    "plt.title('Generator Loss')\n",
    "\n",
    "plt.subplot(312)\n",
    "plt.plot(history['l1_loss'])\n",
    "plt.title('L1 Loss')\n",
    "\n",
    "plt.subplot(313)\n",
    "plt.plot(history['disc_loss'])\n",
    "plt.title('Discriminator Loss')\n",
    "\n",
    "plt.show()"
   ]
  },
  {
   "cell_type": "code",
   "execution_count": null,
   "id": "hidden-disaster",
   "metadata": {},
   "outputs": [],
   "source": [
    "test_ind = 1\n",
    "\n",
    "f = data_path + os.listdir(data_path)[test_ind]\n",
    "sketch, colored = load_img(f)\n",
    "\n",
    "pred = generator(tf.expand_dims(sketch, 0))\n",
    "pred = denormalize(pred)\n",
    "\n",
    "plt.figure(figsize=(20,10))\n",
    "plt.subplot(1,3,1); plt.imshow(denormalize(sketch))\n",
    "plt.subplot(1,3,2); plt.imshow(pred[0])\n",
    "plt.subplot(1,3,3); plt.imshow(denormalize(colored))"
   ]
  },
  {
   "cell_type": "markdown",
   "id": "satisfied-triple",
   "metadata": {},
   "source": [
    "# 8. 프로젝트 회고"
   ]
  },
  {
   "cell_type": "markdown",
   "id": "unavailable-marketing",
   "metadata": {},
   "source": [
    "- 권승민님 프로젝트를 보면서 따라 해봤는데 아직까지도 이해를 못하는 개념이 많았다.\n",
    "- 마감이 코앞이라 헐래벌떡 따라 썼는데도 힘들었고, GAN 알고리즘은 흥미롭지만 너무 어렵다 아직은..\n"
   ]
  },
  {
   "cell_type": "code",
   "execution_count": null,
   "id": "swedish-milan",
   "metadata": {},
   "outputs": [],
   "source": []
  }
 ],
 "metadata": {
  "kernelspec": {
   "display_name": "Python 3",
   "language": "python",
   "name": "python3"
  },
  "language_info": {
   "codemirror_mode": {
    "name": "ipython",
    "version": 3
   },
   "file_extension": ".py",
   "mimetype": "text/x-python",
   "name": "python",
   "nbconvert_exporter": "python",
   "pygments_lexer": "ipython3",
   "version": "3.7.9"
  }
 },
 "nbformat": 4,
 "nbformat_minor": 5
}
